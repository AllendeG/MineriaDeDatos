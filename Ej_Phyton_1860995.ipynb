{
  "nbformat": 4,
  "nbformat_minor": 0,
  "metadata": {
    "colab": {
      "name": "Ej_Phyton_1860995.ipynb",
      "provenance": [],
      "authorship_tag": "ABX9TyM4EKZjTrS+FoERbA12V49n",
      "include_colab_link": true
    },
    "kernelspec": {
      "name": "python3",
      "display_name": "Python 3"
    },
    "language_info": {
      "name": "python"
    }
  },
  "cells": [
    {
      "cell_type": "markdown",
      "metadata": {
        "id": "view-in-github",
        "colab_type": "text"
      },
      "source": [
        "<a href=\"https://colab.research.google.com/github/AllendeG/MineriaDeDatos/blob/main/Ej_Phyton_1860995.ipynb\" target=\"_parent\"><img src=\"https://colab.research.google.com/assets/colab-badge.svg\" alt=\"Open In Colab\"/></a>"
      ]
    },
    {
      "cell_type": "markdown",
      "metadata": {
        "id": "nvgnQtJJJTY2"
      },
      "source": [
        "# **Ejercicios básicos Phyton**\n",
        "## **Ejercicio 1:**\n",
        "\n",
        "Realiza una variable con tu matricula y realiza una secuencia de imprimir con tu nombre y tu matricula concatenados.\n"
      ]
    },
    {
      "cell_type": "code",
      "metadata": {
        "colab": {
          "base_uri": "https://localhost:8080/"
        },
        "id": "R0Um6hJJ9Orh",
        "outputId": "b3cd0302-8120-426e-a7b1-f2c05b05261b"
      },
      "source": [
        "matr=1860995\n",
        "nomb=\"Nayelli A. Allende \"\n",
        "\n",
        "print(nomb + str(matr))"
      ],
      "execution_count": 1,
      "outputs": [
        {
          "output_type": "stream",
          "text": [
            "Nayelli A. Allende 1860995\n"
          ],
          "name": "stdout"
        }
      ]
    },
    {
      "cell_type": "markdown",
      "metadata": {
        "id": "l96glc3p-CM1"
      },
      "source": [
        "## **Ejercicio 2:**\n",
        "\n",
        "Pidiendo el input del usuario pide dos números y crea una pequeña calculadora con los operadores básicos de suma, resta, multiplicación, división, y exponente."
      ]
    },
    {
      "cell_type": "code",
      "metadata": {
        "colab": {
          "base_uri": "https://localhost:8080/"
        },
        "id": "H0TyeQh3-l0y",
        "outputId": "25eea67c-7146-4904-bc0e-b13b8d571065"
      },
      "source": [
        "x1 = int(input(\"Introduce un número: \" ))\n",
        "x2 = int(input(\"Introduce otro número: \"))\n",
        "\n",
        "print(\"La suma de los dos numeros es:\", (x1 + x2))\n",
        "print(\"La resta de los dos numeros es:\", (x1 - x2))\n",
        "print(\"La multiplicacion de los dos numeros es:\", (x1 * x2))\n",
        "print(\"La division de los dos numeros es:\", (x1 / x2))\n",
        "print(\"El exponente de los dos numeros es:\", (x1 ** x2))"
      ],
      "execution_count": 2,
      "outputs": [
        {
          "output_type": "stream",
          "text": [
            "Introduce un número: 5\n",
            "Introduce otro número: 7\n",
            "La suma de los dos numeros es: 12\n",
            "La resta de los dos numeros es: -2\n",
            "La multiplicacion de los dos numeros es: 35\n",
            "La division de los dos numeros es: 0.7142857142857143\n",
            "El exponente de los dos numeros es: 78125\n"
          ],
          "name": "stdout"
        }
      ]
    },
    {
      "cell_type": "markdown",
      "metadata": {
        "id": "gxkj1KagAqn3"
      },
      "source": [
        "## **Ejercicio 3:**\n",
        "Con loop while o for, realiza una lista de 10 numeros multiplos de 3, y después realiza una función de loop que sume todos los números dentro del arreglo."
      ]
    },
    {
      "cell_type": "code",
      "metadata": {
        "colab": {
          "base_uri": "https://localhost:8080/"
        },
        "id": "lEiB7YsxBC04",
        "outputId": "bc21f955-9d0a-4ff5-fd2e-ed6f9aacbd8b"
      },
      "source": [
        "i=1\n",
        "x=1\n",
        "suma=0\n",
        "multiplos=[]  \n",
        "while i<=10:\n",
        "      y=x*3\n",
        "      suma=suma+y\n",
        "      multiplos.append(y)\n",
        "      x=x+1\n",
        "      print(multiplos[i-1])\n",
        "      i=i+1\n",
        "\n",
        "print(\"\\n Suma:\", suma)"
      ],
      "execution_count": 5,
      "outputs": [
        {
          "output_type": "stream",
          "text": [
            "3\n",
            "6\n",
            "9\n",
            "12\n",
            "15\n",
            "18\n",
            "21\n",
            "24\n",
            "27\n",
            "30\n",
            "\n",
            " Suma: 165\n"
          ],
          "name": "stdout"
        }
      ]
    },
    {
      "cell_type": "markdown",
      "metadata": {
        "id": "Pc-mWWF6Gzlo"
      },
      "source": [
        "## **Ejercicio 4**\n",
        "\n",
        "*   Con una función de if else, revisar si un número es par o es impar.\n",
        "*   Con una función de if else, revisar si un número es primo o no.\n",
        "\n"
      ]
    },
    {
      "cell_type": "code",
      "metadata": {
        "colab": {
          "base_uri": "https://localhost:8080/"
        },
        "id": "3hg0z5eTHFbx",
        "outputId": "12f52e65-0726-451f-f890-76801d0334ef"
      },
      "source": [
        "x = int(input(\"Introduce un número: \"))\n",
        "\n",
        "if x % 2 == 0:\n",
        "  print(\"El numero\", x,\" es un numero par\")\n",
        "else:\n",
        "  print(\"El numero\", x,\" es un numero impar\")\n",
        "\n",
        "cont = 0\n",
        "for y in range(2, x - 1):\n",
        "    if x % y == 0:\n",
        "        cont = 1\n",
        "        break\n",
        "\n",
        "if cont == 1:\n",
        "    print(\"El numero\", x,\" no es primo\")\n",
        "else:\n",
        "    print(\"El numero\", x,\" es primo\")"
      ],
      "execution_count": 9,
      "outputs": [
        {
          "output_type": "stream",
          "text": [
            "Introduce un número: 21\n",
            "El numero 21  es un numero impar\n",
            "El numero 21  no es primo\n"
          ],
          "name": "stdout"
        }
      ]
    },
    {
      "cell_type": "markdown",
      "metadata": {
        "id": "jMM52ANzJNM-"
      },
      "source": [
        "## **Ejercicio 5**\n",
        "Utilizando diferentes clases en python, crea una calculadora con los operadores básicos de suma, resta, multiplicación, división, y exponente."
      ]
    },
    {
      "cell_type": "code",
      "metadata": {
        "colab": {
          "base_uri": "https://localhost:8080/"
        },
        "id": "fB7FC2d_JYGb",
        "outputId": "9f882549-134f-4f94-b381-f063391fa506"
      },
      "source": [
        "class calculadora():\n",
        "    def __init__(self, x1, x2):\n",
        "        self.x1 = float(x1)\n",
        "        self.x2 = float(x2)\n",
        "\n",
        "    def suma(self):\n",
        "        suma = self.x1+self.x2\n",
        "        print(\"El resultado de la suma es: \", suma)\n",
        "    \n",
        "    def resta(self):\n",
        "        resta = self.x1-self.x2\n",
        "        print(\"El resultado de la resta es: \", resta)\n",
        "\n",
        "    def multiplicacion(self):\n",
        "        multiplicacion = self.x1*self.x2\n",
        "        print(\"El resultado de la multiplicación es: \", multiplicacion)\n",
        "\n",
        "    def division(self):\n",
        "        division = self.x1/self.x2\n",
        "        print(\"El resultado de la división es: \", division)\n",
        "    \n",
        "    def exponente(self):\n",
        "        exponente = self.x1**self.x2\n",
        "        print(\"El resultado del exponente es: \", exponente)\n",
        "\n",
        "x1 = input(\"Introduce un numero: \")\n",
        "x2 = input(\"Introduce otro numero: \")\n",
        "\n",
        "calculadora = calculadora(x1,x2)\n",
        "calculadora.suma()\n",
        "calculadora.resta()\n",
        "calculadora.multiplicacion()\n",
        "calculadora.division()\n",
        "calculadora.exponente()"
      ],
      "execution_count": 12,
      "outputs": [
        {
          "output_type": "stream",
          "text": [
            "Introduce un numero: 5\n",
            "Introduce otro numero: 7\n",
            "El resultado de la suma es:  12.0\n",
            "El resultado de la resta es:  -2.0\n",
            "El resultado de la multiplicación es:  35.0\n",
            "El resultado de la división es:  0.7142857142857143\n",
            "El resultado del exponente es:  78125.0\n"
          ],
          "name": "stdout"
        }
      ]
    },
    {
      "cell_type": "markdown",
      "metadata": {
        "id": "WWXqU3llNLj3"
      },
      "source": [
        "# **Ejercicios con estructuras básicas de python.**\n",
        "### **Tuplas**\n",
        "\n",
        "\n",
        "*   Crear una variable flotante, integer, boleana y compleja e imprimir el tipo de variable que es.\n"
      ]
    },
    {
      "cell_type": "code",
      "metadata": {
        "colab": {
          "base_uri": "https://localhost:8080/"
        },
        "id": "0HsPs6XGNeCb",
        "outputId": "9676e292-0d0d-4189-ea7e-b046dd80872e"
      },
      "source": [
        "Altura = 1.68\n",
        "Edad = 21\n",
        "Vacunadx = True\n",
        "Ec = 3j\n",
        "print(type(Altura))\n",
        "print(type(Edad))\n",
        "print(type(Vacunadx))\n",
        "print(type(Ec))"
      ],
      "execution_count": 22,
      "outputs": [
        {
          "output_type": "stream",
          "text": [
            "<class 'float'>\n",
            "<class 'int'>\n",
            "<class 'bool'>\n",
            "<class 'complex'>\n"
          ],
          "name": "stdout"
        }
      ]
    },
    {
      "cell_type": "markdown",
      "metadata": {
        "id": "W4LlQ9FSQryT"
      },
      "source": [
        "\n",
        "\n",
        "*   Crear una tupla con valores enteros imprimir el primer y ultimo valor.\n"
      ]
    },
    {
      "cell_type": "code",
      "metadata": {
        "colab": {
          "base_uri": "https://localhost:8080/"
        },
        "id": "QpqDp4fNQ6HU",
        "outputId": "8813f560-5f9d-4f00-b9d7-0230a72891a4"
      },
      "source": [
        "tupla=[1,2,3,4,5,6,7,8,9,10]\n",
        "print(\"Primer valor: \",tupla[0],\"\\nUltimo valor: \",tupla[9])"
      ],
      "execution_count": 36,
      "outputs": [
        {
          "output_type": "stream",
          "text": [
            "Primer valor:  1 \n",
            "Ultimo valor:  10\n"
          ],
          "name": "stdout"
        }
      ]
    },
    {
      "cell_type": "markdown",
      "metadata": {
        "id": "78dL2T0CQ4x8"
      },
      "source": [
        "*   Añadir 3 valores de string a la tupla."
      ]
    },
    {
      "cell_type": "code",
      "metadata": {
        "colab": {
          "base_uri": "https://localhost:8080/"
        },
        "id": "wwrufkO4RyAl",
        "outputId": "61869209-5842-4c05-8e9a-a70662911d52"
      },
      "source": [
        "tupla.append(\"Uno\")\n",
        "tupla.append(\"Dos\")\n",
        "tupla.append(\"Tres\")\n",
        "print(tupla)"
      ],
      "execution_count": 37,
      "outputs": [
        {
          "output_type": "stream",
          "text": [
            "[1, 2, 3, 4, 5, 6, 7, 8, 9, 10, 'Uno', 'Dos', 'Tres']\n"
          ],
          "name": "stdout"
        }
      ]
    },
    {
      "cell_type": "markdown",
      "metadata": {
        "id": "EKMtfREcRGiM"
      },
      "source": [
        "\n",
        "\n",
        "*   Verificar si una variable existe dentro de la tupla\n",
        "\n"
      ]
    },
    {
      "cell_type": "code",
      "metadata": {
        "colab": {
          "base_uri": "https://localhost:8080/"
        },
        "id": "nTuW0OW5R_t7",
        "outputId": "bbfee006-1a87-4202-9b81-69c3416ee8cc"
      },
      "source": [
        "x=11\n",
        "if x in tupla:\n",
        "    print(\"La variable\",x,\"existe dentro de la tupla.\")\n",
        "else:\n",
        "    print(\"La variable\",x,\"no existe dentro de la tupla.\")"
      ],
      "execution_count": 39,
      "outputs": [
        {
          "output_type": "stream",
          "text": [
            "La variable 11 no existe dentro de la tupla.\n"
          ],
          "name": "stdout"
        }
      ]
    },
    {
      "cell_type": "markdown",
      "metadata": {
        "id": "QRiazEnvTN_A"
      },
      "source": [
        "## **Listas**\n",
        "\n",
        "\n",
        "*  Crear una lista con 40 elementos aleatorios enteros\n"
      ]
    },
    {
      "cell_type": "code",
      "metadata": {
        "colab": {
          "base_uri": "https://localhost:8080/"
        },
        "id": "qxPprz7nVVRz",
        "outputId": "8ff8ab54-95b9-45dd-d4ae-b0f6d51ac243"
      },
      "source": [
        "import random\n",
        "\n",
        "lista = [random.randint(0,100) for _ in range(40)]\n",
        "print(lista)"
      ],
      "execution_count": 59,
      "outputs": [
        {
          "output_type": "stream",
          "text": [
            "[91, 42, 38, 8, 56, 30, 72, 16, 12, 67, 25, 50, 23, 98, 5, 21, 18, 69, 81, 76, 61, 69, 90, 41, 28, 9, 29, 6, 61, 12, 25, 100, 10, 56, 98, 3, 11, 36, 32, 10]\n"
          ],
          "name": "stdout"
        }
      ]
    },
    {
      "cell_type": "markdown",
      "metadata": {
        "id": "dY5bLdJWVKvI"
      },
      "source": [
        "\n",
        "*  Con una funcion (def) crear dos listas nuevas a partir de la lista creada por numeros aleatorios, en la cual en una esten los elementos pares, y en la otra los elementos impares."
      ]
    },
    {
      "cell_type": "code",
      "metadata": {
        "colab": {
          "base_uri": "https://localhost:8080/"
        },
        "id": "tt5FVy78Vnv8",
        "outputId": "835cbf28-8c7a-4b4f-c39f-1b4023a3a6c5"
      },
      "source": [
        "def pares(listado):\n",
        "    par = [i for i in listado if i%2 == 0]\n",
        "    return par\n",
        "\n",
        "def impares(listado):\n",
        "    impar = [i for i in listado if i%2 !=0]\n",
        "    return impar\n",
        "\n",
        "lista_par = pares(lista)\n",
        "lista_impar = impares(lista)\n",
        "print(\"Lista par:\") \n",
        "print(lista_par)\n",
        "print(\"Lista impar:\") \n",
        "print(lista_impar)"
      ],
      "execution_count": 60,
      "outputs": [
        {
          "output_type": "stream",
          "text": [
            "Lista par:\n",
            "[42, 38, 8, 56, 30, 72, 16, 12, 50, 98, 18, 76, 90, 28, 6, 12, 100, 10, 56, 98, 36, 32, 10]\n",
            "Lista impar:\n",
            "[91, 67, 25, 23, 5, 21, 69, 81, 61, 69, 41, 9, 29, 61, 25, 3, 11]\n"
          ],
          "name": "stdout"
        }
      ]
    },
    {
      "cell_type": "markdown",
      "metadata": {
        "id": "YoWzHqn3VNI_"
      },
      "source": [
        "\n",
        "*   Crear dos variables con la longitud de ambas listas nuevas e imprimir las variables.\n"
      ]
    },
    {
      "cell_type": "code",
      "metadata": {
        "colab": {
          "base_uri": "https://localhost:8080/"
        },
        "id": "-6zhkJj5V3Lg",
        "outputId": "cdd9689c-138b-4872-f343-d0818b97e48b"
      },
      "source": [
        "lon_par = len(lista_par)\n",
        "lon_impar = len(lista_impar)\n",
        "print(\"La longitud de la lista con numeros pares es:\", lon_par)\n",
        "print(\"La longitud de la lista con numeros impares es:\", lon_impar)"
      ],
      "execution_count": 61,
      "outputs": [
        {
          "output_type": "stream",
          "text": [
            "La longitud de la lista con numeros pares es: 23\n",
            "La longitud de la lista con numeros impares es: 17\n"
          ],
          "name": "stdout"
        }
      ]
    },
    {
      "cell_type": "markdown",
      "metadata": {
        "id": "Aiy4_h0lVPPC"
      },
      "source": [
        "\n",
        "*  Ordenar los elementos de la lista par de mayor a menor, y los de la lista impar de menor a mayor"
      ]
    },
    {
      "cell_type": "code",
      "metadata": {
        "colab": {
          "base_uri": "https://localhost:8080/"
        },
        "id": "25E-ONtOW-5s",
        "outputId": "4f25bdd6-c122-4924-f35e-927b7f862e2f"
      },
      "source": [
        "lista_par.sort(reverse = True)\n",
        "print(\"Lista par:\")\n",
        "print(lista_par)\n",
        "lista_impar.sort()\n",
        "print(\"Lista impar:\")\n",
        "print(lista_impar)"
      ],
      "execution_count": 62,
      "outputs": [
        {
          "output_type": "stream",
          "text": [
            "Lista par:\n",
            "[100, 98, 98, 90, 76, 72, 56, 56, 50, 42, 38, 36, 32, 30, 28, 18, 16, 12, 12, 10, 10, 8, 6]\n",
            "Lista impar:\n",
            "[3, 5, 9, 11, 21, 23, 25, 25, 29, 41, 61, 61, 67, 69, 69, 81, 91]\n"
          ],
          "name": "stdout"
        }
      ]
    },
    {
      "cell_type": "markdown",
      "metadata": {
        "id": "c6OAixsoVQ-J"
      },
      "source": [
        "\n",
        "*   Utilizar al menos cuatro de las funciones de listas en python en la lista original de 40 elementos"
      ]
    },
    {
      "cell_type": "code",
      "metadata": {
        "colab": {
          "base_uri": "https://localhost:8080/"
        },
        "id": "_Z3m4IehazEQ",
        "outputId": "9a41e5f7-7511-49b8-f3aa-dd9feb1bf238"
      },
      "source": [
        "print(\"El numero maximo en la lista es:\", max(lista))\n",
        "print(\"El numero minimo en la lista es:\", min(lista))\n",
        "print(\"La suma de todos los numero de la lista es:\", sum(lista))\n",
        "lista.insert(0,111)\n",
        "print(\"Lista con un valor agregado:\\n\", lista)\n"
      ],
      "execution_count": 63,
      "outputs": [
        {
          "output_type": "stream",
          "text": [
            "El numero maximo en la lista es: 100\n",
            "El numero minimo en la lista es: 3\n",
            "La suma de todos los numero de la lista es: 1685\n",
            "Lista con un valor agregado:\n",
            " [111, 91, 42, 38, 8, 56, 30, 72, 16, 12, 67, 25, 50, 23, 98, 5, 21, 18, 69, 81, 76, 61, 69, 90, 41, 28, 9, 29, 6, 61, 12, 25, 100, 10, 56, 98, 3, 11, 36, 32, 10]\n"
          ],
          "name": "stdout"
        }
      ]
    },
    {
      "cell_type": "markdown",
      "metadata": {
        "id": "EBcFZhBNfVwe"
      },
      "source": [
        "## **Diccionarios**\n",
        "\n",
        "\n",
        "*  Crear un diccionario de 6 personas que conozcas con su primer nombre y su edad.\n"
      ]
    },
    {
      "cell_type": "code",
      "metadata": {
        "colab": {
          "base_uri": "https://localhost:8080/"
        },
        "id": "imTQiRLugN3g",
        "outputId": "45e72944-9864-453d-af01-715e7ff1cfe4"
      },
      "source": [
        "diccionario={\"Francisco\":66,\"Maria\":51,\"Leider\":30,\"Nelly\":29,\"Alondra\":20,\"Jowell\":10}\n",
        "print(diccionario)"
      ],
      "execution_count": 68,
      "outputs": [
        {
          "output_type": "stream",
          "text": [
            "{'Francisco': 66, 'Maria': 51, 'Leider': 30, 'Nelly': 29, 'Alondra': 20, 'Jowell': 10}\n"
          ],
          "name": "stdout"
        }
      ]
    },
    {
      "cell_type": "markdown",
      "metadata": {
        "id": "c8We7m8dgEI_"
      },
      "source": [
        "\n",
        "\n",
        "*   Crear una lista con los valores de la edad y reacomodar la lista de menor a mayor valor.\n"
      ]
    },
    {
      "cell_type": "code",
      "metadata": {
        "colab": {
          "base_uri": "https://localhost:8080/"
        },
        "id": "s64mnuHrhjsU",
        "outputId": "f5fc110c-5f13-428d-a7ea-c735ff5e6528"
      },
      "source": [
        "diccionario_edad=[]\n",
        "for key,value in diccionario.items():\n",
        "  diccionario_edad.append(value)\n",
        "diccionario_edad.sort() \n",
        "print(diccionario_edad)"
      ],
      "execution_count": 70,
      "outputs": [
        {
          "output_type": "stream",
          "text": [
            "[10, 20, 29, 30, 51, 66]\n"
          ],
          "name": "stdout"
        }
      ]
    },
    {
      "cell_type": "markdown",
      "metadata": {
        "id": "QP-Yh0b8gIlW"
      },
      "source": [
        "*   Usando el diccionario y un loop, imprimir solo los nombres.\n"
      ]
    },
    {
      "cell_type": "code",
      "metadata": {
        "colab": {
          "base_uri": "https://localhost:8080/"
        },
        "id": "PgGoq7zBiXdd",
        "outputId": "a1f614dc-fc76-478e-eb4f-641f4c182a3c"
      },
      "source": [
        "for key, value in diccionario.items():\n",
        "  print(key) "
      ],
      "execution_count": 71,
      "outputs": [
        {
          "output_type": "stream",
          "text": [
            "Francisco\n",
            "Maria\n",
            "Leider\n",
            "Nelly\n",
            "Alondra\n",
            "Jowell\n"
          ],
          "name": "stdout"
        }
      ]
    },
    {
      "cell_type": "markdown",
      "metadata": {
        "id": "Z8cRcotbgKNz"
      },
      "source": [
        "\n",
        "*   Añadir dos personas nuevas a tu diccionario, incluyendo edad."
      ]
    },
    {
      "cell_type": "code",
      "metadata": {
        "colab": {
          "base_uri": "https://localhost:8080/"
        },
        "id": "HmdU8nglieND",
        "outputId": "5ed441bd-a27f-4b69-f93d-2af7f62a5818"
      },
      "source": [
        "diccionario['Antonio'] = 76\n",
        "diccionario['Juan'] = 50\n",
        "print(diccionario)"
      ],
      "execution_count": 74,
      "outputs": [
        {
          "output_type": "stream",
          "text": [
            "{'Francisco': 66, 'Maria': 51, 'Leider': 30, 'Nelly': 29, 'Alondra': 20, 'Jowell': 10, 'Antonio': 76, 'Juan': 50}\n"
          ],
          "name": "stdout"
        }
      ]
    },
    {
      "cell_type": "markdown",
      "metadata": {
        "id": "73fUwhwPjRFh"
      },
      "source": [
        "## **Sets**\n",
        "\n",
        "\n",
        "*   Crea un set con 100 numeros aleatorios enteros del 1 al 25.\n",
        "\n"
      ]
    },
    {
      "cell_type": "code",
      "metadata": {
        "colab": {
          "base_uri": "https://localhost:8080/"
        },
        "id": "0MO_8o72jxyA",
        "outputId": "6f6c3980-c3e2-437b-af8d-e505cf0620b0"
      },
      "source": [
        "import random\n",
        "\n",
        "sett = set()\n",
        "i = 1\n",
        "while i <= 100:\n",
        "    sett.add(random.randint(1,25))\n",
        "    i += 1\n",
        "print(sett)"
      ],
      "execution_count": 75,
      "outputs": [
        {
          "output_type": "stream",
          "text": [
            "{1, 2, 3, 4, 5, 6, 7, 8, 9, 10, 11, 12, 14, 15, 16, 17, 18, 19, 20, 21, 22, 23, 24, 25}\n"
          ],
          "name": "stdout"
        }
      ]
    },
    {
      "cell_type": "markdown",
      "metadata": {
        "id": "VREYgavDjrCG"
      },
      "source": [
        "\n",
        "*   Comprueba la longitud de tu set.\n",
        "\n"
      ]
    },
    {
      "cell_type": "code",
      "metadata": {
        "colab": {
          "base_uri": "https://localhost:8080/"
        },
        "id": "2gNuT2t4kWsb",
        "outputId": "4fea0a95-78f0-48e2-e27d-53cad7ed860f"
      },
      "source": [
        "lon_set = len(sett)\n",
        "print(\"La longitud del set es:\", lon_set)"
      ],
      "execution_count": 77,
      "outputs": [
        {
          "output_type": "stream",
          "text": [
            "La longitud del set es: 24\n"
          ],
          "name": "stdout"
        }
      ]
    },
    {
      "cell_type": "markdown",
      "metadata": {
        "id": "LGApRLVIjwK-"
      },
      "source": [
        "\n",
        "* Crea una lista de 5 numeros aleatorios del 1 al 10 y comprueba si cada valor aparece en el set inicial."
      ]
    },
    {
      "cell_type": "code",
      "metadata": {
        "colab": {
          "base_uri": "https://localhost:8080/"
        },
        "id": "6F3EDzmDkiY4",
        "outputId": "c2de67cb-127d-4e1b-ec91-2cc50b37d474"
      },
      "source": [
        "lista_set=[random.randint(1,10) for _ in range(5)]\n",
        "print(lista_set)\n",
        "for i in range(1,6):\n",
        "  if lista_set[i-1] in sett: \n",
        "    print(\"El valor\", lista_set[i-1],\"aparece en el set inicial\")\n",
        "  else:\n",
        "    print(\"El valor\", lista_set[i-1],\"no aparece en el set inicial\")"
      ],
      "execution_count": 85,
      "outputs": [
        {
          "output_type": "stream",
          "text": [
            "[10, 1, 4, 4, 5]\n",
            "El valor 10 aparece en el set inicial\n",
            "El valor 1 aparece en el set inicial\n",
            "El valor 4 aparece en el set inicial\n",
            "El valor 4 aparece en el set inicial\n",
            "El valor 5 aparece en el set inicial\n"
          ],
          "name": "stdout"
        }
      ]
    }
  ]
}